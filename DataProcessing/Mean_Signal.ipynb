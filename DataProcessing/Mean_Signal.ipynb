{
 "cells": [
  {
   "cell_type": "code",
   "execution_count": 1,
   "metadata": {},
   "outputs": [],
   "source": [
    "import scipy.fftpack as fft\n",
    "import numpy, scipy, matplotlib.pyplot as plt, sklearn, librosa, IPython.display\n",
    "import essentia, essentia.standard as ess\n",
    "import urllib.request\n",
    "import librosa.display\n",
    "import librosa.util as util\n",
    "import glob\n",
    "import os\n",
    "import shutil"
   ]
  },
  {
   "cell_type": "code",
   "execution_count": 17,
   "metadata": {},
   "outputs": [
    {
     "name": "stdout",
     "output_type": "stream",
     "text": [
      "Number of full clips: 1\n",
      "Current clip: Chlorophoneus-olivaceus-Olive Bushshrike-388273.mp3\n",
      "Number of clip segments: 29\n",
      "Signal Total mean: 0.013463272\n",
      "Cut_Clips/Chlorophoneus-olivaceus-Olive Bushshrike-388273-15.wav\n",
      "Segment mean: 0.0012781045\n",
      "Cut_Clips/Chlorophoneus-olivaceus-Olive Bushshrike-388273-13.wav\n",
      "Segment mean: 0.001041976\n",
      "Cut_Clips/Chlorophoneus-olivaceus-Olive Bushshrike-388273-27.wav\n",
      "Segment mean: 0.0021378894\n",
      "Cut_Clips/Chlorophoneus-olivaceus-Olive Bushshrike-388273-24.wav\n",
      "Segment mean: 0.00097409246\n"
     ]
    }
   ],
   "source": [
    "full_clips = glob.glob(\"Full_Clips/*.mp3\")\n",
    "print(\"Number of full clips: \" + str(len(full_clips)))\n",
    "\n",
    "for clip in full_clips:\n",
    "    clip_name = clip[11:]\n",
    "    print(\"Current clip: \" + clip_name)\n",
    "    signal, fs = librosa.load(clip)\n",
    "    signal_abs = numpy.absolute(signal)\n",
    "\n",
    "    search_name = \"Cut_Clips/\" + clip_name[:-4] + \"*[0-9].*\"\n",
    "    #print(search_name)\n",
    "    cut_clips = glob.glob(search_name)\n",
    "    #print(clip_name[:-4])\n",
    "    print(\"Number of clip segments: \" + str(len(cut_clips)))\n",
    "\n",
    "    total_mean = numpy.mean(signal_abs)\n",
    "    print(\"Signal Total mean: \" + str(total_mean))\n",
    "    condition = total_mean*0.25\n",
    "\n",
    "    for record in cut_clips:\n",
    "        signal_segment, sample_rate_segment = librosa.load(record)\n",
    "        mean = numpy.mean(numpy.abs(signal_segment))\n",
    "        if mean < condition:\n",
    "            print(record)\n",
    "            print(\"Segment mean: \" + str(mean))\n",
    "            shutil.move(record,\"Rejected_noise/\")        "
   ]
  },
  {
   "cell_type": "code",
   "execution_count": 16,
   "metadata": {},
   "outputs": [
    {
     "name": "stdout",
     "output_type": "stream",
     "text": [
      "['Rejected_noise/Chlorophoneus-olivaceus-Olive Bushshrike-388273-13.wav']\n"
     ]
    }
   ],
   "source": [
    "rejected_clips = glob.glob(\"Rejected_noise/*.wav\")\n",
    "print(rejected_clips)\n",
    "for item in rejected_clips:\n",
    "    name = item[15:]\n",
    "    new_name = \"All_MFCCs/\" + name[:-3] + \"png\"\n",
    "    shutil.move(new_name,\"Rejected_MFCCS/\") "
   ]
  },
  {
   "cell_type": "code",
   "execution_count": null,
   "metadata": {},
   "outputs": [],
   "source": []
  }
 ],
 "metadata": {
  "kernelspec": {
   "display_name": "Python 3",
   "language": "python",
   "name": "python3"
  },
  "language_info": {
   "codemirror_mode": {
    "name": "ipython",
    "version": 3
   },
   "file_extension": ".py",
   "mimetype": "text/x-python",
   "name": "python",
   "nbconvert_exporter": "python",
   "pygments_lexer": "ipython3",
   "version": "3.6.5"
  }
 },
 "nbformat": 4,
 "nbformat_minor": 2
}
